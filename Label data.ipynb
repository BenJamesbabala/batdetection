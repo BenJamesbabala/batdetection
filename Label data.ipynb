{
 "cells": [
  {
   "cell_type": "markdown",
   "metadata": {},
   "source": [
    "# Labeling sound data\n",
    "Last week I discovered that there are bats outside of my appartment. To detect when there is one I took a \"bat detector\", a device that brings the high pitched noise bats make back to hearable levels. To split the data into \"batsound\" and \"no sound\" I made this Jupyter notebook to label the data.\n",
    "\n",
    "Note that we use the librosa library to load the data. Humans can label either as bat (1) or no bat (0). Audiosamples of 1 second are saved to the bat and no-bat folders. \n"
   ]
  },
  {
   "cell_type": "code",
   "execution_count": null,
   "metadata": {},
   "outputs": [],
   "source": [
    "import librosa\n",
    "import os\n",
    "import numpy as np\n",
    "import matplotlib.pyplot as plt\n",
    "import IPython\n",
    "\n",
    "\n",
    "directory = \"batsounds\"\n",
    "filename = \"bats8.m4a\"\n",
    "openfile = os.path.join(directory, filename)\n",
    "\n",
    "print(\"Loading \" + openfile)\n",
    "soundarray, sr = librosa.load(openfile) # This operation can take a long time with large sound files\n",
    "\n",
    "# We take 1 second per sample, which comes down to sampling-rate variables per sample. \n",
    "maxseconds = int(len(X)/sr)\n",
    "for second in range(maxseconds-1):\n",
    "    print(str(second) + \" out of \" + str(maxseconds))\n",
    "    audiosample = np.array(soundarray[second*sr:(second+1)*sr])\n",
    "    IPython.display.display(IPython.display.Audio(audiosample, rate=sr,autoplay=True))\n",
    "    label = str(input(\"bat(1) or not (0)\"))\n",
    "\n",
    "    outputfilename = os.path.join(\"labeled\", label, filename + str(second) + \".wav\")\n",
    "    print(\"Saving to: \" + outputfilename)\n",
    "    librosa.output.write_wav(outputfilename, audiosample, sr)\n"
   ]
  }
 ],
 "metadata": {
  "kernelspec": {
   "display_name": "Python 2",
   "language": "python",
   "name": "python2"
  },
  "language_info": {
   "codemirror_mode": {
    "name": "ipython",
    "version": 2
   },
   "file_extension": ".py",
   "mimetype": "text/x-python",
   "name": "python",
   "nbconvert_exporter": "python",
   "pygments_lexer": "ipython2",
   "version": "2.7.12"
  }
 },
 "nbformat": 4,
 "nbformat_minor": 2
}
